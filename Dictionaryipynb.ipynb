{
  "nbformat": 4,
  "nbformat_minor": 0,
  "metadata": {
    "colab": {
      "provenance": [],
      "authorship_tag": "ABX9TyOGt95U6o/vsgLcdvxWYZGT",
      "include_colab_link": true
    },
    "kernelspec": {
      "name": "python3",
      "display_name": "Python 3"
    },
    "language_info": {
      "name": "python"
    }
  },
  "cells": [
    {
      "cell_type": "markdown",
      "metadata": {
        "id": "view-in-github",
        "colab_type": "text"
      },
      "source": [
        "<a href=\"https://colab.research.google.com/github/AkankshaB123/python/blob/main/Dictionaryipynb.ipynb\" target=\"_parent\"><img src=\"https://colab.research.google.com/assets/colab-badge.svg\" alt=\"Open In Colab\"/></a>"
      ]
    },
    {
      "cell_type": "code",
      "execution_count": null,
      "metadata": {
        "id": "mhUkkm90KRxj"
      },
      "outputs": [],
      "source": []
    },
    {
      "cell_type": "markdown",
      "source": [
        "## Dictionary Task 1\n",
        "1. Create a dictionary - Empty\n",
        "2. Add 3 key, value pairs\n",
        "3. List all the keys\n",
        "4. List all the values\n",
        "5. Create a new key value pair\n",
        "6. Update that key value pair\n",
        "7. Modify the second key and change it to 100 (INTERESTING Q)"
      ],
      "metadata": {
        "id": "4A6mffO9KXJo"
      }
    },
    {
      "cell_type": "code",
      "source": [
        "#1. Create a dictionary - Empty\n",
        "products = {}"
      ],
      "metadata": {
        "id": "8XKBB5MiKVzt"
      },
      "execution_count": 3,
      "outputs": []
    },
    {
      "cell_type": "code",
      "source": [
        "#2. Add 3 key, value pairs\n",
        "products = {\n",
        "    'product_id': ['A','B','C'],\n",
        "     'desc': ['Bat','Ball','Gloves'],\n",
        "    'amount' : ['1000','2000','3000']\n",
        "}"
      ],
      "metadata": {
        "id": "Aw_zu85XKzS_"
      },
      "execution_count": 4,
      "outputs": []
    },
    {
      "cell_type": "code",
      "source": [
        "#List all the keys\n",
        "products.keys()"
      ],
      "metadata": {
        "colab": {
          "base_uri": "https://localhost:8080/"
        },
        "id": "1KHJPxArLPqu",
        "outputId": "168999f2-4d2d-4241-c127-cc1dc907008e"
      },
      "execution_count": 6,
      "outputs": [
        {
          "output_type": "execute_result",
          "data": {
            "text/plain": [
              "dict_keys(['product_id', 'desc', 'amount'])"
            ]
          },
          "metadata": {},
          "execution_count": 6
        }
      ]
    },
    {
      "cell_type": "code",
      "source": [
        "#List all the values\n",
        "products.values()"
      ],
      "metadata": {
        "colab": {
          "base_uri": "https://localhost:8080/"
        },
        "id": "ZrgHN7jQLWOb",
        "outputId": "cf45b89d-a2a4-4c00-ef6d-94735f3c3600"
      },
      "execution_count": 7,
      "outputs": [
        {
          "output_type": "execute_result",
          "data": {
            "text/plain": [
              "dict_values([['A', 'B', 'C'], ['Bat', 'Ball', 'Gloves'], ['1000', '2000', '3000']])"
            ]
          },
          "metadata": {},
          "execution_count": 7
        }
      ]
    },
    {
      "cell_type": "code",
      "source": [
        "#Create a new key value pair\n",
        "products.update({'k2': 40})"
      ],
      "metadata": {
        "id": "CpIM5b0bLZn7"
      },
      "execution_count": 8,
      "outputs": []
    },
    {
      "cell_type": "code",
      "source": [
        "products"
      ],
      "metadata": {
        "colab": {
          "base_uri": "https://localhost:8080/"
        },
        "id": "Eya0rNxBMBmK",
        "outputId": "fb1867ba-3bbe-4c12-9df6-a7b8b8da9a7c"
      },
      "execution_count": 9,
      "outputs": [
        {
          "output_type": "execute_result",
          "data": {
            "text/plain": [
              "{'product_id': ['A', 'B', 'C'],\n",
              " 'desc': ['Bat', 'Ball', 'Gloves'],\n",
              " 'amount': ['1000', '2000', '3000'],\n",
              " 'k2': 40}"
            ]
          },
          "metadata": {},
          "execution_count": 9
        }
      ]
    },
    {
      "cell_type": "code",
      "source": [
        "#INTERESTING Q: Modify the second key and change it to 100\n",
        "products[list(products.keys())[3]] = 100"
      ],
      "metadata": {
        "id": "18q8Tt2YMDX0"
      },
      "execution_count": 16,
      "outputs": []
    },
    {
      "cell_type": "code",
      "source": [
        "products"
      ],
      "metadata": {
        "colab": {
          "base_uri": "https://localhost:8080/"
        },
        "id": "6MXa8j14MVzd",
        "outputId": "a563dd7b-0521-45bf-8b79-0828a8f4b5b0"
      },
      "execution_count": 17,
      "outputs": [
        {
          "output_type": "execute_result",
          "data": {
            "text/plain": [
              "{'product_id': ['A', 'B', 'C'],\n",
              " 'desc': ['Bat', 'Ball', 'Gloves'],\n",
              " 'amount': ['1000', '2000', '3000'],\n",
              " 'k2': 100}"
            ]
          },
          "metadata": {},
          "execution_count": 17
        }
      ]
    }
  ]
}