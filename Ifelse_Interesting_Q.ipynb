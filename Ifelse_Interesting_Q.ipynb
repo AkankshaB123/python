{
  "nbformat": 4,
  "nbformat_minor": 0,
  "metadata": {
    "colab": {
      "provenance": [],
      "authorship_tag": "ABX9TyPTJcYCFkA/EMtRSZ8j9+uN",
      "include_colab_link": true
    },
    "kernelspec": {
      "name": "python3",
      "display_name": "Python 3"
    },
    "language_info": {
      "name": "python"
    }
  },
  "cells": [
    {
      "cell_type": "markdown",
      "metadata": {
        "id": "view-in-github",
        "colab_type": "text"
      },
      "source": [
        "<a href=\"https://colab.research.google.com/github/AkankshaB123/python/blob/main/Ifelse_Interesting_Q.ipynb\" target=\"_parent\"><img src=\"https://colab.research.google.com/assets/colab-badge.svg\" alt=\"Open In Colab\"/></a>"
      ]
    },
    {
      "cell_type": "markdown",
      "source": [
        "#Question:\n",
        "1. Male, Female\n",
        "2. 20, 40, 40+\n",
        "3. Gender = ['m', 'M', 'Male','f','F','Female']\n",
        "4. age = number"
      ],
      "metadata": {
        "id": "ZU2Amk7XPc6m"
      }
    },
    {
      "cell_type": "code",
      "source": [
        "gender = input(\"Enter your gender: \")\n",
        "age = int(input(\"Enter your age: \"))\n",
        "if gender in('m','M','Male','male'):\n",
        "    gender = \"Male\"\n",
        "    if ((age <= 20)):\n",
        "      age = \"20\"\n",
        "    elif ((age > 20) and (age <= 40)):\n",
        "      age = \"20-40 age group\"\n",
        "    elif (age>40):\n",
        "      age = \"41+\"\n",
        "    print(f\"The person is {gender} with {age} of age\")\n",
        "elif gender in ('f','F','Female','female'):\n",
        "    gender = \"Female\"\n",
        "    if ((age <= 20)):\n",
        "      age = \"20\"\n",
        "    elif ((age > 20) and (age <= 40)):\n",
        "      age = \"20-40 age group\"\n",
        "    elif (age>40):\n",
        "      age = \"41+\"\n",
        "    print(f\"The person is {gender} with {age} of age\")\n",
        "else:\n",
        "   print(\"Please enter proper format for gender\")"
      ],
      "metadata": {
        "colab": {
          "base_uri": "https://localhost:8080/"
        },
        "id": "McpOiaaVQGAr",
        "outputId": "b68f0a36-ac75-4a3a-c365-e80a31877199"
      },
      "execution_count": 31,
      "outputs": [
        {
          "output_type": "stream",
          "name": "stdout",
          "text": [
            "Enter your gender: m\n",
            "Enter your age: 32\n",
            "The person is Male with 20-40 age group of age\n"
          ]
        }
      ]
    },
    {
      "cell_type": "markdown",
      "source": [
        "## Dynamic Printing"
      ],
      "metadata": {
        "id": "M3Y6V-_r5A71"
      }
    },
    {
      "cell_type": "code",
      "source": [
        "a = \"Akanksha\"\n",
        "print(\"Hi my name is {}\".format(a))"
      ],
      "metadata": {
        "colab": {
          "base_uri": "https://localhost:8080/"
        },
        "id": "MJvidOmq5b-O",
        "outputId": "7b7abecc-7dd2-4d43-a43b-d4c80446284a"
      },
      "execution_count": 38,
      "outputs": [
        {
          "output_type": "stream",
          "name": "stdout",
          "text": [
            "Hi my name is Akanksha\n"
          ]
        }
      ]
    },
    {
      "cell_type": "code",
      "source": [
        "a = 5\n",
        "b = 10\n",
        "print(\"The value of a is {}, and the value of b is {}\".format(a,b))"
      ],
      "metadata": {
        "colab": {
          "base_uri": "https://localhost:8080/"
        },
        "id": "Uamch6cN5j_S",
        "outputId": "593c6694-1f9f-4342-c2c5-fd07aa20db0f"
      },
      "execution_count": 34,
      "outputs": [
        {
          "output_type": "stream",
          "name": "stdout",
          "text": [
            "The value of a is 5, and the value of b is 10\n"
          ]
        }
      ]
    },
    {
      "cell_type": "code",
      "source": [
        "var = int(input(\"Please enter an integer: \"))"
      ],
      "metadata": {
        "colab": {
          "base_uri": "https://localhost:8080/"
        },
        "id": "aE42XBJX2vUE",
        "outputId": "97262140-65f9-4dd9-a113-d1829e3578a2"
      },
      "execution_count": 37,
      "outputs": [
        {
          "name": "stdout",
          "output_type": "stream",
          "text": [
            "Please enter an integer: 3\n"
          ]
        }
      ]
    },
    {
      "cell_type": "code",
      "source": [],
      "metadata": {
        "id": "MsFHdfsx_bVx"
      },
      "execution_count": null,
      "outputs": []
    },
    {
      "cell_type": "code",
      "source": [],
      "metadata": {
        "id": "WKjpAWcI_c2T"
      },
      "execution_count": null,
      "outputs": []
    }
  ]
}