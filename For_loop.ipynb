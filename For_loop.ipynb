{
  "nbformat": 4,
  "nbformat_minor": 0,
  "metadata": {
    "colab": {
      "provenance": [],
      "authorship_tag": "ABX9TyNIVuCQ9Xc4cT9xGw2yXBu1",
      "include_colab_link": true
    },
    "kernelspec": {
      "name": "python3",
      "display_name": "Python 3"
    },
    "language_info": {
      "name": "python"
    }
  },
  "cells": [
    {
      "cell_type": "markdown",
      "metadata": {
        "id": "view-in-github",
        "colab_type": "text"
      },
      "source": [
        "<a href=\"https://colab.research.google.com/github/AkankshaB123/python/blob/main/For_loop.ipynb\" target=\"_parent\"><img src=\"https://colab.research.google.com/assets/colab-badge.svg\" alt=\"Open In Colab\"/></a>"
      ]
    },
    {
      "cell_type": "markdown",
      "source": [
        "## Task - Iterate through the loop and print - which number is odd and which is even"
      ],
      "metadata": {
        "id": "WZ6URfTRGUt0"
      }
    },
    {
      "cell_type": "code",
      "source": [
        "list_of_values = [1,5,12,46,76,51,23]"
      ],
      "metadata": {
        "id": "Pebzkil6GgTR"
      },
      "execution_count": 1,
      "outputs": []
    },
    {
      "cell_type": "code",
      "source": [
        "# 1 is odd\n",
        "# 5 is odd\n",
        "# 12 is even\n",
        "# 46 is even"
      ],
      "metadata": {
        "id": "UieKBO-nGfLk"
      },
      "execution_count": null,
      "outputs": []
    },
    {
      "cell_type": "code",
      "source": [
        "for i in list_of_values:\n",
        "  if i%2 == 0:\n",
        "    print(i,\"is even\")\n",
        "  else:\n",
        "    print(i,\"is odd\")"
      ],
      "metadata": {
        "colab": {
          "base_uri": "https://localhost:8080/"
        },
        "id": "eFvkboKaGd34",
        "outputId": "777e2eba-b343-46ce-8f7a-c620aac14db8"
      },
      "execution_count": 2,
      "outputs": [
        {
          "output_type": "stream",
          "name": "stdout",
          "text": [
            "1 is odd\n",
            "5 is odd\n",
            "12 is even\n",
            "46 is even\n",
            "76 is even\n",
            "51 is odd\n",
            "23 is odd\n"
          ]
        }
      ]
    },
    {
      "cell_type": "code",
      "source": [],
      "metadata": {
        "id": "aGCf9GoLGcLJ"
      },
      "execution_count": null,
      "outputs": []
    }
  ]
}