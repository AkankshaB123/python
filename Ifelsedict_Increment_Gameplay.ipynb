{
  "nbformat": 4,
  "nbformat_minor": 0,
  "metadata": {
    "colab": {
      "provenance": [],
      "authorship_tag": "ABX9TyNKyNoxC1ckM055gcaIn5XN",
      "include_colab_link": true
    },
    "kernelspec": {
      "name": "python3",
      "display_name": "Python 3"
    },
    "language_info": {
      "name": "python"
    }
  },
  "cells": [
    {
      "cell_type": "markdown",
      "metadata": {
        "id": "view-in-github",
        "colab_type": "text"
      },
      "source": [
        "<a href=\"https://colab.research.google.com/github/AkankshaB123/python/blob/main/Ifelsedict_Increment_Gameplay.ipynb\" target=\"_parent\"><img src=\"https://colab.research.google.com/assets/colab-badge.svg\" alt=\"Open In Colab\"/></a>"
      ]
    },
    {
      "cell_type": "markdown",
      "source": [
        "### Task - 2\n",
        "1. Take from the User Input of two things\n",
        "- Tenure of Job in the Company\n",
        "- Base Salary\n",
        "2. Evaluate the bonus based on 10% and Minimum Tenure of 10 years\n",
        "3. Evaluate the bonus based on 5% and Minimum Tenure of 5 years\n",
        "4. Print the Final Bonus and the Final Salary\n",
        "5. If Bonus is not received, print the number of years the employee needs to wait before they get a bonus."
      ],
      "metadata": {
        "id": "ZO3pH-PSABHc"
      }
    },
    {
      "cell_type": "code",
      "source": [
        "# Get user inputs\n",
        "tenure = int(input(\"Enter the tenure of the job in the company (in years): \"))\n",
        "base_salary = float(input(\"Enter the base salary: \"))\n",
        "\n",
        "# Determine bonus rate\n",
        "if tenure >= 10:\n",
        "    bonus_rate = 0.10\n",
        "elif tenure >= 5:\n",
        "    bonus_rate = 0.05\n",
        "else:\n",
        "    bonus_rate = 0.0\n",
        "\n",
        "# Calculate bonus and final salary\n",
        "bonus = base_salary * bonus_rate\n",
        "final_salary = base_salary + bonus\n",
        "\n",
        "# Display results\n",
        "if bonus_rate > 0:\n",
        "    print(\"Bonus received\")\n",
        "    print(f\"The final bonus is: {bonus:,.2f}\")\n",
        "    print(f\"The final salary is: {final_salary:,.2f}\")\n",
        "else:\n",
        "    print(\"No bonus received\")"
      ],
      "metadata": {
        "colab": {
          "base_uri": "https://localhost:8080/"
        },
        "id": "n2l3Av-PAkqO",
        "outputId": "05d04687-b424-40b9-f25b-18c556eb6243"
      },
      "execution_count": 17,
      "outputs": [
        {
          "output_type": "stream",
          "name": "stdout",
          "text": [
            "Enter the tenure of the job in the company (in years): 10\n",
            "Enter the base salary: 5000000\n",
            "Bonus received\n",
            "The final bonus is: 500,000.00\n",
            "The final salary is: 5,500,000.00\n"
          ]
        }
      ]
    },
    {
      "cell_type": "markdown",
      "source": [
        "### Develop some kind of game\n",
        "- Level 1 If else Block - If you want to play the game or not\n",
        "- Level 2 If else Block - Which game do you want to play\n",
        "- Three Games: Super Mario, Contra, WWE"
      ],
      "metadata": {
        "id": "-TKwY0NOAnSu"
      }
    },
    {
      "cell_type": "code",
      "source": [
        "games = input(\"You want to play a game: \")\n",
        "if games == \"Super Mario\":\n",
        "  print(\"You play Super Mario\")\n",
        "elif games == \"Contra\":\n",
        "  print(\"You play Contra\")\n",
        "elif games == \"WWE\":\n",
        "  print(\"You play WWE\")\n",
        "else:\n",
        "  print(\"That game isn't available. Try again next time!\")"
      ],
      "metadata": {
        "colab": {
          "base_uri": "https://localhost:8080/"
        },
        "id": "shgITs7qGqaa",
        "outputId": "0530aab4-a3b6-4e4d-c571-59472f554350"
      },
      "execution_count": 21,
      "outputs": [
        {
          "output_type": "stream",
          "name": "stdout",
          "text": [
            "You want to play a game: Mario\n",
            "That game isn't available. Try again next time!\n"
          ]
        }
      ]
    },
    {
      "cell_type": "code",
      "source": [
        "#Better approach: Use dictionary instead of if else\n",
        "print(\"🎮 Welcome to the Game Zone!\")\n",
        "print(\"Available games: Super Mario, Contra, WWE, Pac-Man, Street Fighter\")\n",
        "\n",
        "game = input(\"Which game do you want to play? \").strip().title()\n",
        "\n",
        "games = {\n",
        "    \"Super Mario\": \"You’re jumping through Mushroom Kingdom as Mario! 🍄\",\n",
        "    \"Contra\": \"You’re blasting enemies in Contra! 💥\",\n",
        "    \"Wwe\": \"You’re fighting in the WWE ring! 🥊\",\n",
        "    \"Pac-Man\": \"You’re munching dots in Pac-Man! 🟡\",\n",
        "    \"Street Fighter\": \"You’re battling in Street Fighter! 🧤\"\n",
        "}\n",
        "\n",
        "if game in games:\n",
        "    print(f\"\\n✅ {games[game]}\")\n",
        "else:\n",
        "    print(\"\\n❌ That game isn’t available. Please choose from the list!\")\n",
        "\n",
        "print(\"\\nThanks for playing! 😎\")"
      ],
      "metadata": {
        "colab": {
          "base_uri": "https://localhost:8080/"
        },
        "id": "TyxD07OXIC4k",
        "outputId": "5f149cf1-8464-45f4-f555-db4b88edbfc5"
      },
      "execution_count": 22,
      "outputs": [
        {
          "output_type": "stream",
          "name": "stdout",
          "text": [
            "🎮 Welcome to the Game Zone!\n",
            "Available games: Super Mario, Contra, WWE, Pac-Man, Street Fighter\n",
            "Which game do you want to play? Super Mario\n",
            "\n",
            "✅ You’re jumping through Mushroom Kingdom as Mario! 🍄\n",
            "\n",
            "Thanks for playing! 😎\n"
          ]
        }
      ]
    },
    {
      "cell_type": "code",
      "source": [],
      "metadata": {
        "id": "MBeueC9LINnR"
      },
      "execution_count": null,
      "outputs": []
    },
    {
      "cell_type": "code",
      "source": [],
      "metadata": {
        "id": "yMTc4sMkHx3t"
      },
      "execution_count": null,
      "outputs": []
    },
    {
      "cell_type": "code",
      "source": [],
      "metadata": {
        "id": "Ig2cIM00HvgD"
      },
      "execution_count": null,
      "outputs": []
    },
    {
      "cell_type": "code",
      "source": [],
      "metadata": {
        "id": "Iu6nVeBBHj1z"
      },
      "execution_count": 18,
      "outputs": []
    },
    {
      "cell_type": "code",
      "source": [],
      "metadata": {
        "id": "cmpkPAKSHlLN"
      },
      "execution_count": null,
      "outputs": []
    },
    {
      "cell_type": "code",
      "source": [],
      "metadata": {
        "id": "W0Bzz74XA7Nf"
      },
      "execution_count": null,
      "outputs": []
    }
  ]
}