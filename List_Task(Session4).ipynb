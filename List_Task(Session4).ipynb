{
  "nbformat": 4,
  "nbformat_minor": 0,
  "metadata": {
    "colab": {
      "provenance": []
    },
    "kernelspec": {
      "name": "python3",
      "display_name": "Python 3"
    },
    "language_info": {
      "name": "python"
    }
  },
  "cells": [
    {
      "cell_type": "code",
      "execution_count": 24,
      "metadata": {
        "id": "7uGLw8z0r8PL"
      },
      "outputs": [],
      "source": [
        "#Create a list\n",
        "l1 = [20, 15, 4, 2, 8]"
      ]
    },
    {
      "cell_type": "code",
      "source": [
        "l1"
      ],
      "metadata": {
        "colab": {
          "base_uri": "https://localhost:8080/"
        },
        "id": "zfolBw6ksOTO",
        "outputId": "8a6a15c2-68e5-451b-8d62-58964a8004cb"
      },
      "execution_count": 25,
      "outputs": [
        {
          "output_type": "execute_result",
          "data": {
            "text/plain": [
              "[20, 15, 4, 2, 8]"
            ]
          },
          "metadata": {},
          "execution_count": 25
        }
      ]
    },
    {
      "cell_type": "code",
      "source": [
        "# Append 5\n",
        "l1.append(5)"
      ],
      "metadata": {
        "id": "bLf15X7isTng"
      },
      "execution_count": 26,
      "outputs": []
    },
    {
      "cell_type": "code",
      "source": [
        "l1"
      ],
      "metadata": {
        "colab": {
          "base_uri": "https://localhost:8080/"
        },
        "id": "0JE5WAG0sv-g",
        "outputId": "37adbdfc-dbb7-48c0-bc5d-b2c4103e261d"
      },
      "execution_count": 27,
      "outputs": [
        {
          "output_type": "execute_result",
          "data": {
            "text/plain": [
              "[20, 15, 4, 2, 8, 5]"
            ]
          },
          "metadata": {},
          "execution_count": 27
        }
      ]
    },
    {
      "cell_type": "code",
      "source": [
        "#Extend 7,8,9\n",
        "l1.extend([7,8,9])\n",
        "l1"
      ],
      "metadata": {
        "colab": {
          "base_uri": "https://localhost:8080/"
        },
        "id": "IPprGi1Oswou",
        "outputId": "f0272513-f7ce-4697-fde1-4bf7768e14c7"
      },
      "execution_count": 28,
      "outputs": [
        {
          "output_type": "execute_result",
          "data": {
            "text/plain": [
              "[20, 15, 4, 2, 8, 5, 7, 8, 9]"
            ]
          },
          "metadata": {},
          "execution_count": 28
        }
      ]
    },
    {
      "cell_type": "code",
      "source": [
        "# Input at position 2 - 100\n",
        "l1.insert(2,100)\n",
        "l1\n",
        "#Insert method takes index, the ask is for pos 2"
      ],
      "metadata": {
        "colab": {
          "base_uri": "https://localhost:8080/"
        },
        "id": "WAbG4XEesWYO",
        "outputId": "5be1a007-1358-4f23-e3d6-52708dcc3549"
      },
      "execution_count": 29,
      "outputs": [
        {
          "output_type": "execute_result",
          "data": {
            "text/plain": [
              "[20, 15, 100, 4, 2, 8, 5, 7, 8, 9]"
            ]
          },
          "metadata": {},
          "execution_count": 29
        }
      ]
    },
    {
      "cell_type": "code",
      "source": [
        "#Remove element 9\n",
        "l1.remove(9)\n",
        "l1"
      ],
      "metadata": {
        "colab": {
          "base_uri": "https://localhost:8080/"
        },
        "id": "i0AcGq0ItEKq",
        "outputId": "cbb7349b-aa46-413f-93de-f68a898cea36"
      },
      "execution_count": 30,
      "outputs": [
        {
          "output_type": "execute_result",
          "data": {
            "text/plain": [
              "[20, 15, 100, 4, 2, 8, 5, 7, 8]"
            ]
          },
          "metadata": {},
          "execution_count": 30
        }
      ]
    },
    {
      "cell_type": "code",
      "source": [
        "# Reverse the list, show the original list and reversed list\n",
        "reversed_list = l1[::-1] # or l1.reverse()\n",
        "print(f'Original list: {l1}, Reversed list: {reversed_list}')"
      ],
      "metadata": {
        "colab": {
          "base_uri": "https://localhost:8080/"
        },
        "id": "iMUGqmNytNMT",
        "outputId": "3ccb9722-94b6-48e6-b519-e60530b7cbfb"
      },
      "execution_count": 31,
      "outputs": [
        {
          "output_type": "stream",
          "name": "stdout",
          "text": [
            "Original list: [20, 15, 100, 4, 2, 8, 5, 7, 8], Reversed list: [8, 7, 5, 8, 2, 4, 100, 15, 20]\n"
          ]
        }
      ]
    },
    {
      "cell_type": "code",
      "source": [
        "#Sorted list\n",
        "sorted(l1, reverse = True)"
      ],
      "metadata": {
        "colab": {
          "base_uri": "https://localhost:8080/"
        },
        "id": "pkJ__rdizx7k",
        "outputId": "58d317b6-c43c-4a4e-a422-9ccf15b37b06"
      },
      "execution_count": 32,
      "outputs": [
        {
          "output_type": "execute_result",
          "data": {
            "text/plain": [
              "[100, 20, 15, 8, 8, 7, 5, 4, 2]"
            ]
          },
          "metadata": {},
          "execution_count": 32
        }
      ]
    },
    {
      "cell_type": "code",
      "source": [
        "#Unsorted list\n",
        "l1"
      ],
      "metadata": {
        "colab": {
          "base_uri": "https://localhost:8080/"
        },
        "id": "6BfH6Av6z-Vk",
        "outputId": "c7d9d5b8-b628-423e-9c1a-c428dac184c5"
      },
      "execution_count": 33,
      "outputs": [
        {
          "output_type": "execute_result",
          "data": {
            "text/plain": [
              "[20, 15, 100, 4, 2, 8, 5, 7, 8]"
            ]
          },
          "metadata": {},
          "execution_count": 33
        }
      ]
    },
    {
      "cell_type": "code",
      "source": [
        "# Reverse the list, show the original list and reversed list\n",
        "# Note: Don't use .sort() & .reverse()\n",
        "l1 = [20, 15, 100, 4, 2, 8, 5, 7, 8, 7, 8]\n",
        "print(f'Original list: {l1}')\n",
        "l1.reverse() #Default: False, Ascending\n",
        "print(f'Reversed list: {l1}')"
      ],
      "metadata": {
        "colab": {
          "base_uri": "https://localhost:8080/"
        },
        "id": "vxoXsPwYttjz",
        "outputId": "f005f7e9-ccbd-4992-ae89-fca6a3694954"
      },
      "execution_count": 17,
      "outputs": [
        {
          "output_type": "stream",
          "name": "stdout",
          "text": [
            "Original list: [20, 15, 100, 4, 2, 8, 5, 7, 8, 7, 8]\n",
            "Reversed list: [8, 7, 8, 7, 5, 8, 2, 4, 100, 15, 20]\n"
          ]
        }
      ]
    },
    {
      "cell_type": "code",
      "source": [
        "#Sort in descending format - show the sorted list and unsorted list\n",
        "l1 = [8, 7, 8, 7, 5, 8, 2, 4, 100, 15, 20]\n",
        "print(f'Unsorted list list: {l1}')\n",
        "l1.sort()\n",
        "print(f'Sorted list: {l1}')\n"
      ],
      "metadata": {
        "colab": {
          "base_uri": "https://localhost:8080/"
        },
        "id": "NJHWHhdDuP7H",
        "outputId": "b441cb27-0a56-45fb-f867-a077ba5e26b1"
      },
      "execution_count": 23,
      "outputs": [
        {
          "output_type": "stream",
          "name": "stdout",
          "text": [
            "Unsorted list list: [8, 7, 8, 7, 5, 8, 2, 4, 100, 15, 20]\n",
            "Sorted list: [2, 4, 5, 7, 7, 8, 8, 8, 15, 20, 100]\n"
          ]
        }
      ]
    },
    {
      "cell_type": "code",
      "source": [],
      "metadata": {
        "id": "qY1Az1ej0jVV"
      },
      "execution_count": null,
      "outputs": []
    },
    {
      "cell_type": "code",
      "source": [],
      "metadata": {
        "id": "24UrUjcC0gsj"
      },
      "execution_count": null,
      "outputs": []
    }
  ]
}